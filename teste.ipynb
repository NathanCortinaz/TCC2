{
 "cells": [
  {
   "cell_type": "markdown",
   "metadata": {},
   "source": [
    "### Rodar vídeo local"
   ]
  },
  {
   "cell_type": "code",
   "execution_count": null,
   "metadata": {},
   "outputs": [],
   "source": [
    "# importing libraries\n",
    "import cv2\n",
    "import numpy as np\n",
    "\n",
    "# Create a VideoCapture object and read from input file\n",
    "cap = cv2.VideoCapture('video.mp4')\n",
    "\n",
    "# Check if camera opened successfully\n",
    "if (cap.isOpened() == False):\n",
    "    print(\"Error opening video  file\")\n",
    "\n",
    "# Read until video is completed\n",
    "while(cap.isOpened()):\n",
    "\n",
    "    # Capture frame-by-frame\n",
    "    ret, frame = cap.read()\n",
    "    frame = cv2.resize(frame, (1280, 720))\n",
    "\n",
    "    # Display the resulting frame\n",
    "    cv2.imshow('Frame', frame)\n",
    "\n",
    "    # Press Q on keyboard to  exit\n",
    "    if cv2.waitKey(25) & 0xFF == ord('q'):\n",
    "        break\n",
    "\n",
    "# When everything done, release\n",
    "# the video capture object\n",
    "cap.release()\n",
    "\n",
    "# Closes all the frames\n",
    "cv2.destroyAllWindows()\n"
   ]
  },
  {
   "cell_type": "markdown",
   "metadata": {},
   "source": [
    "### Rodar vídeo no youtube"
   ]
  },
  {
   "cell_type": "code",
   "execution_count": null,
   "metadata": {},
   "outputs": [],
   "source": [
    "import webbrowser as web\n",
    "\n",
    "url = 'https://www.youtube.com/watch?v=SfLV8hD7zX4'\n",
    "\n",
    "web.open_new(url)\n"
   ]
  },
  {
   "cell_type": "markdown",
   "metadata": {},
   "source": [
    "Checar links\n",
    "\n",
    "https://docs.python.org/3/library/webbrowser.html\n",
    "\n",
    "https://pypi.org/project/youtube-video-play-pause-bot/\n",
    "\n",
    "https://stackoverflow.com/questions/63599903/how-can-i-play-a-youtube-video-selenium"
   ]
  },
  {
   "cell_type": "markdown",
   "metadata": {},
   "source": [
    "### Audio and Video"
   ]
  },
  {
   "cell_type": "code",
   "execution_count": null,
   "metadata": {},
   "outputs": [],
   "source": [
    "import cv2\n",
    "import numpy as np\n",
    "import os\n",
    "from ffpyplayer.player import MediaPlayer\n",
    "from time import sleep\n",
    "video_path = \"video.mp4\"\n",
    "\n",
    "\n",
    "def PlayVideo(video_path):\n",
    "    video = cv2.VideoCapture(video_path)\n",
    "    player = MediaPlayer(video_path)\n",
    "\n",
    "    if (video.isOpened() == False):\n",
    "        print(\"Error opening video  file\")\n",
    "        return\n",
    "\n",
    "    # Read until video is completed\n",
    "    while(video.isOpened()):\n",
    "        hasContent, frame = video.read()\n",
    "        audio_frame, val = player.get_frame()\n",
    "\n",
    "        if not hasContent:\n",
    "            print(\"End of video\")\n",
    "            break\n",
    "\n",
    "        # Pause video\n",
    "        if cv2.waitKey(28) & 0xFF == 32:\n",
    "            while(cv2.waitKey(28) & 0xFF != 32):\n",
    "                if cv2.waitKey(28) & 0xFF == ord(\"q\"):\n",
    "                    return\n",
    "                sleep(0.001)\n",
    "\n",
    "        # Quit video\n",
    "        if cv2.waitKey(28) & 0xFF == ord(\"q\"):\n",
    "            break\n",
    "\n",
    "        # Display the video image\n",
    "        frame = cv2.resize(frame, (1280, 720))\n",
    "        cv2.imshow(\"Video\", frame)\n",
    "\n",
    "        # Play the video audio\n",
    "        if val != 'eof' and audio_frame is not None:\n",
    "            img, t = audio_frame\n",
    "    video.release()\n",
    "    cv2.destroyAllWindows()\n",
    "\n",
    "\n",
    "PlayVideo(video_path)\n"
   ]
  },
  {
   "cell_type": "markdown",
   "metadata": {},
   "source": [
    "# Testes"
   ]
  },
  {
   "cell_type": "code",
   "execution_count": null,
   "metadata": {},
   "outputs": [],
   "source": [
    "import pandas as pd\n",
    "import matplotlib.pyplot as plt\n",
    "import matplotlib.pyplot as pltline\n",
    "from openpyxl import load_workbook\n",
    "import openpyxl\n",
    "import os\n",
    "\n",
    "path = f'{os.path.dirname(os.path.realpath(__file__))}\\Results'\n",
    "\n",
    "reactions = [\n",
    "    ('neutral', 0),\n",
    "    ('happy', 1.744248399976641),\n",
    "    ('sad', 2.0440329000120983),\n",
    "    ('fear', 2.373049699992407),\n",
    "    ('sad', 2.75135879998561),\n",
    "    ('neutral', 3.3799759999965318),\n",
    "    ('sad', 3.6899851000052877),\n",
    "    ('neutral', 4.007389399979729),\n",
    "    ('sad', 4.617331699992064)]\n",
    "\n",
    "df = pd.DataFrame(reactions)\n",
    "\n",
    "# plt.figure(figsize=(9, 6))\n",
    "# plt.bar(x=df[0],\n",
    "#         height=df[1]\n",
    "#         )\n",
    "# plt.xticks(rotation=45)\n",
    "# plt.title(\"Gráfico\", fontsize=25, fontweight='bold')\n",
    "# plt.xlabel('Reação')\n",
    "# plt.ylabel('Tempo')\n",
    "\n",
    "x = df[0]\n",
    "\n",
    "pltline.figure()\n",
    "pltline.stairs(x, fill=True)\n",
    "pltline.title(\"Gráfico\", fontsize=25, fontweight='bold')\n",
    "pltline.ylabel('Reação')\n",
    "pltline.xlabel('Tempo')\n",
    "pltline.show()\n",
    "\n",
    "# pltline.plot(x, y, 'go--', linewidth=2, markersize=12)\n",
    "# pltline.title(\"Gráfico\", fontsize=25, fontweight='bold')\n",
    "# pltline.ylabel('Reação')\n",
    "# pltline.xlabel('Tempo')\n",
    "# img = pltline.savefig(f\"{path}/GraficoLinha.png\")\n",
    "\n",
    "# wsnew = load_workbook(f\"{path}/Results.xlsx\")\n",
    "# newsheet = wsnew.create_sheet(\"Gráfico\", 2)\n",
    "# img1 = openpyxl.drawing.image.Image(f\"{path}/GraficoLinha.png\")\n",
    "# img1.anchor = 'A1'\n",
    "# newsheet.add_image(img1)\n",
    "# wsnew.save(f\"{path}/Results.xlsx\")\n",
    "# wsnew.close()\n"
   ]
  },
  {
   "cell_type": "markdown",
   "metadata": {},
   "source": [
    "### Criar lista de reações por intervalo de segundo"
   ]
  },
  {
   "cell_type": "code",
   "execution_count": 6,
   "metadata": {},
   "outputs": [
    {
     "name": "stdout",
     "output_type": "stream",
     "text": [
      "[('neutral', 0), ('neutral', 1), ('neutral', 2), ('neutral', 3), ('happy', 4), ('happy', 5), ('neutral', 6), ('neutral', 7), ('neutral', 8), ('neutral', 9), ('neutral', 10), ('sad', 11), ('neutral', 12), ('surprise', 13), ('surprise', 14), ('surprise', 15), ('fear', 16), ('sad', 17), ('sad', 18), ('happy', 19)]\n"
     ]
    }
   ],
   "source": [
    "reactions = [\n",
    "    ('neutral', 0),\n",
    "    ('happy', 3.667533200001344),\n",
    "    ('neutral', 5.9574342999840155),\n",
    "    ('sad', 10.518743799999356),\n",
    "    ('neutral', 11.684130500012543),\n",
    "    ('surprise', 12.83386780001456),\n",
    "    ('fear', 15.099824299977627),\n",
    "    ('sad', 16.253530799993314),\n",
    "    ('happy', 18.42876579996664)]\n",
    "\n",
    "reactions_step = []\n",
    "current_reaction = 'neutral'\n",
    "step = 0\n",
    "\n",
    "for reaction in reactions:\n",
    "    while step < reaction[1]:\n",
    "        reactions_step.append((current_reaction, step))\n",
    "        step += 1\n",
    "    current_reaction = reaction[0]\n",
    "\n",
    "reactions_step.append((reaction[0], step))\n",
    "\n",
    "print(reactions_step)"
   ]
  },
  {
   "cell_type": "markdown",
   "metadata": {},
   "source": [
    "### Criar lista de frequência de reações"
   ]
  },
  {
   "cell_type": "code",
   "execution_count": 28,
   "metadata": {},
   "outputs": [
    {
     "name": "stdout",
     "output_type": "stream",
     "text": [
      "[('neutral', 16), ('happy', 10), ('sad', 3), ('angry', 2), ('surprise', 2)]\n"
     ]
    }
   ],
   "source": [
    "import collections\n",
    "\n",
    "reactions = [\n",
    "    ('neutral', 0),\n",
    "    ('neutral', 1),\n",
    "    ('sad', 2),\n",
    "    ('neutral', 3),\n",
    "    ('neutral', 4),\n",
    "    ('neutral', 5),\n",
    "    ('happy', 6),\n",
    "    ('happy', 7),\n",
    "    ('surprise', 8),\n",
    "    ('surprise', 9),\n",
    "    ('neutral', 10),\n",
    "    ('neutral', 11),\n",
    "    ('neutral', 12),\n",
    "    ('neutral', 13),\n",
    "    ('neutral', 14),\n",
    "    ('neutral', 15),\n",
    "    ('angry', 16),\n",
    "    ('angry', 17),\n",
    "    ('neutral', 18),\n",
    "    ('neutral', 19),\n",
    "    ('neutral', 20),\n",
    "    ('neutral', 21),\n",
    "    ('neutral', 22),\n",
    "    ('sad', 23),\n",
    "    ('sad', 24),\n",
    "    ('happy', 25),\n",
    "    ('happy', 26),\n",
    "    ('happy', 27),\n",
    "    ('happy', 28),\n",
    "    ('happy', 29),\n",
    "    ('happy', 30),\n",
    "    ('happy', 31),\n",
    "    ('happy', 32)]\n",
    "\n",
    "reactions_list = [reaction[0] for reaction in reactions]\n",
    "frequency_list = list(collections.Counter(reactions_list).items())\n",
    "sorted_frequency_list = sorted(frequency_list, key=lambda x: (-x[1], x[0]))\n",
    "\n",
    "print(sorted_frequency_list)\n"
   ]
  },
  {
   "cell_type": "markdown",
   "metadata": {},
   "source": [
    "### Cria gráfico com emoções por segundo"
   ]
  },
  {
   "cell_type": "code",
   "execution_count": 76,
   "metadata": {},
   "outputs": [
    {
     "data": {
      "image/png": "[encoded data removed]",
      "text/plain": [
       "<Figure size 640x480 with 1 Axes>"
      ]
     },
     "metadata": {},
     "output_type": "display_data"
    },
    {
     "data": {
      "image/png": "[encoded data removed]",
      "text/plain": [
       "<Figure size 640x480 with 1 Axes>"
      ]
     },
     "metadata": {},
     "output_type": "display_data"
    }
   ],
   "source": [
    "import pandas as pd\n",
    "import matplotlib.pyplot as plt\n",
    "import matplotlib.pyplot as pltline\n",
    "from openpyxl import load_workbook\n",
    "import openpyxl\n",
    "import os\n",
    "import numpy\n",
    "\n",
    "path = 'C:/Users/natha/OneDrive - Associacao Antonio Vieira/# UNISINOS/TCC2/Code/src/Results'\n",
    "\n",
    "reactions = [\n",
    "    ('neutral', 0),\n",
    "    ('happy', 3.322744000000057),\n",
    "    ('neutral', 5.560093500000221),\n",
    "    ('fear', 6.676402500000222),\n",
    "    ('angry', 8.942872200000238),\n",
    "    ('neutral', 11.220656400000735),\n",
    "    ('happy', 15.75596780000069),\n",
    "    ('neutral', 16.86338640000031),\n",
    "    ('neutral', 19.146108200000526)]\n",
    "\n",
    "reactions_step = [\n",
    "    ('neutral', 0),\n",
    "    ('neutral', 1),\n",
    "    ('neutral', 2),\n",
    "    ('neutral', 3),\n",
    "    ('happy', 4),\n",
    "    ('happy', 5),\n",
    "    ('neutral', 6),\n",
    "    ('fear', 7),\n",
    "    ('fear', 8),\n",
    "    ('angry', 9),\n",
    "    ('angry', 10),\n",
    "    ('angry', 11),\n",
    "    ('neutral', 12),\n",
    "    ('neutral', 13),\n",
    "    ('neutral', 14),\n",
    "    ('neutral', 15),\n",
    "    ('happy', 16),\n",
    "    ('neutral', 17),\n",
    "    ('neutral', 18),\n",
    "    ('neutral', 19),\n",
    "    ('neutral', 20)]\n",
    "\n",
    "sorted_frequency_list = [('neutral', 13), ('angry', 3), ('happy', 3), ('fear', 2)]\n",
    "\n",
    "df1 = pd.DataFrame(reactions_step)\n",
    "df2 = pd.DataFrame(sorted_frequency_list)\n",
    "\n",
    "x1 = df1[1]\n",
    "y1 = df1[0]\n",
    "\n",
    "fig1 = pltline.figure()\n",
    "ax = fig1.gca()\n",
    "pltline.plot(x, y, linewidth=2, markersize=1)\n",
    "pltline.title(\"Gráfico\", fontsize=25, fontweight='bold')\n",
    "pltline.ylabel('Reação')\n",
    "pltline.xlabel('Tempo')\n",
    "ax.set_xticks(numpy.arange(0, reactions_step[-1][1], 2))\n",
    "pltline.grid(linestyle=':')\n",
    "pltline.show()\n",
    "\n",
    "x2 = df2[0]\n",
    "y2 = df2[1]\n",
    "\n",
    "fig2 = pltline.figure()\n",
    "ax = fig2.gca()\n",
    "pltline.bar(x2, y2)\n",
    "pltline.title(\"Gráfico\", fontsize=25, fontweight='bold')\n",
    "pltline.xlabel('Reação')\n",
    "pltline.ylabel('Tempo')\n",
    "for i in range(len(x2)):\n",
    "    plt.text(i, y2[i], y2[i], ha='center')\n",
    "pltline.show()\n",
    "\n",
    "# img = pltline.savefig(f\"{path}/GraficoLinha.png\")"
   ]
  },
  {
   "cell_type": "markdown",
   "metadata": {},
   "source": []
  }
 ],
 "metadata": {
  "kernelspec": {
   "display_name": "Python 3.10.7 64-bit",
   "language": "python",
   "name": "python3"
  },
  "language_info": {
   "codemirror_mode": {
    "name": "ipython",
    "version": 3
   },
   "file_extension": ".py",
   "mimetype": "text/x-python",
   "name": "python",
   "nbconvert_exporter": "python",
   "pygments_lexer": "ipython3",
   "version": "3.10.7"
  },
  "orig_nbformat": 4,
  "vscode": {
   "interpreter": {
    "hash": "9f0d103aebe82dfbb47ec724a2ca4fd3dcb0c9038207abb072b7913218171667"
   }
  }
 },
 "nbformat": 4,
 "nbformat_minor": 2
}
