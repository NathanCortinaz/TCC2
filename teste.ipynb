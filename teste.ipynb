{
 "cells": [
  {
   "cell_type": "markdown",
   "metadata": {},
   "source": [
    "### Rodar vídeo local"
   ]
  },
  {
   "cell_type": "code",
   "execution_count": null,
   "metadata": {},
   "outputs": [],
   "source": [
    "# importing libraries\n",
    "import cv2\n",
    "import numpy as np\n",
    "\n",
    "# Create a VideoCapture object and read from input file\n",
    "cap = cv2.VideoCapture('video.mp4')\n",
    "\n",
    "# Check if camera opened successfully\n",
    "if (cap.isOpened() == False):\n",
    "    print(\"Error opening video  file\")\n",
    "\n",
    "# Read until video is completed\n",
    "while(cap.isOpened()):\n",
    "\n",
    "    # Capture frame-by-frame\n",
    "    ret, frame = cap.read()\n",
    "    frame = cv2.resize(frame, (1280, 720))\n",
    "\n",
    "    # Display the resulting frame\n",
    "    cv2.imshow('Frame', frame)\n",
    "\n",
    "    # Press Q on keyboard to  exit\n",
    "    if cv2.waitKey(25) & 0xFF == ord('q'):\n",
    "        break\n",
    "\n",
    "# When everything done, release\n",
    "# the video capture object\n",
    "cap.release()\n",
    "\n",
    "# Closes all the frames\n",
    "cv2.destroyAllWindows()\n"
   ]
  },
  {
   "cell_type": "markdown",
   "metadata": {},
   "source": [
    "### Rodar vídeo no youtube"
   ]
  },
  {
   "cell_type": "code",
   "execution_count": null,
   "metadata": {},
   "outputs": [],
   "source": [
    "import webbrowser as web\n",
    "\n",
    "url = 'https://www.youtube.com/watch?v=SfLV8hD7zX4'\n",
    "\n",
    "web.open_new(url)\n"
   ]
  },
  {
   "cell_type": "markdown",
   "metadata": {},
   "source": [
    "Checar links\n",
    "\n",
    "https://docs.python.org/3/library/webbrowser.html\n",
    "\n",
    "https://pypi.org/project/youtube-video-play-pause-bot/\n",
    "\n",
    "https://stackoverflow.com/questions/63599903/how-can-i-play-a-youtube-video-selenium"
   ]
  },
  {
   "cell_type": "markdown",
   "metadata": {},
   "source": [
    "### Audio and Video"
   ]
  },
  {
   "cell_type": "code",
   "execution_count": null,
   "metadata": {},
   "outputs": [],
   "source": [
    "import cv2\n",
    "import numpy as np\n",
    "import os\n",
    "from ffpyplayer.player import MediaPlayer\n",
    "from time import sleep\n",
    "video_path = \"video.mp4\"\n",
    "\n",
    "\n",
    "def PlayVideo(video_path):\n",
    "    video = cv2.VideoCapture(video_path)\n",
    "    player = MediaPlayer(video_path)\n",
    "\n",
    "    if (video.isOpened() == False):\n",
    "        print(\"Error opening video  file\")\n",
    "        return\n",
    "\n",
    "    # Read until video is completed\n",
    "    while(video.isOpened()):\n",
    "        hasContent, frame = video.read()\n",
    "        audio_frame, val = player.get_frame()\n",
    "\n",
    "        if not hasContent:\n",
    "            print(\"End of video\")\n",
    "            break\n",
    "\n",
    "        # Pause video\n",
    "        if cv2.waitKey(28) & 0xFF == 32:\n",
    "            while(cv2.waitKey(28) & 0xFF != 32):\n",
    "                if cv2.waitKey(28) & 0xFF == ord(\"q\"):\n",
    "                    return\n",
    "                sleep(0.001)\n",
    "\n",
    "        # Quit video\n",
    "        if cv2.waitKey(28) & 0xFF == ord(\"q\"):\n",
    "            break\n",
    "\n",
    "        # Display the video image\n",
    "        frame = cv2.resize(frame, (1280, 720))\n",
    "        cv2.imshow(\"Video\", frame)\n",
    "\n",
    "        # Play the video audio\n",
    "        if val != 'eof' and audio_frame is not None:\n",
    "            img, t = audio_frame\n",
    "    video.release()\n",
    "    cv2.destroyAllWindows()\n",
    "\n",
    "\n",
    "PlayVideo(video_path)\n"
   ]
  },
  {
   "cell_type": "markdown",
   "metadata": {},
   "source": [
    "# Testes"
   ]
  },
  {
   "cell_type": "code",
   "execution_count": 1,
   "metadata": {},
   "outputs": [
    {
     "name": "stdout",
     "output_type": "stream",
     "text": [
      "['azul', 'vermelho', 'verde']\n"
     ]
    }
   ],
   "source": [
    "def addCor(cor):\n",
    "    cores.append(cor)\n",
    "\n",
    "\n",
    "cores = ['azul', 'vermelho']\n",
    "cor = 'verde'\n",
    "addCor(cor)\n",
    "print(cores)"
   ]
  },
  {
   "cell_type": "code",
   "execution_count": 3,
   "metadata": {},
   "outputs": [
    {
     "name": "stdout",
     "output_type": "stream",
     "text": [
      "['azul', 'vermelho', 'verde']\n"
     ]
    }
   ],
   "source": [
    "def addCor(cor):\n",
    "    cores.append(cor)\n",
    "    return cores\n",
    "\n",
    "\n",
    "cores = ['azul', 'vermelho']\n",
    "cor = 'verde'\n",
    "cores = addCor(cor)\n",
    "print(cores)\n"
   ]
  },
  {
   "cell_type": "code",
   "execution_count": 2,
   "metadata": {},
   "outputs": [
    {
     "name": "stdout",
     "output_type": "stream",
     "text": [
      "['azul', 'vermelho', 'verde']\n"
     ]
    }
   ],
   "source": [
    "class Paleta:\n",
    "    def __init__(self, *cores):\n",
    "        self.cores = list(cores)\n",
    "    def add_cor(self, cor):\n",
    "        self.cores.append(cor)\n",
    "    def __str__(self):\n",
    "        return str(self.cores)\n",
    "\n",
    "\n",
    "cor = 'verde'\n",
    "minhaPaleta = Paleta('azul', 'vermelho')\n",
    "minhaPaleta.add_cor(cor)\n",
    "print(minhaPaleta)\n"
   ]
  },
  {
   "cell_type": "code",
   "execution_count": 11,
   "metadata": {},
   "outputs": [],
   "source": [
    "import pandas as pd\n",
    "\n",
    "df1 = pd.DataFrame([['a', 'b'], ['c', 'd']],\n",
    "                   index=['row 1', 'row 2'],\n",
    "                   columns=['col 1', 'col 2'])\n",
    "df1.to_excel(\"output.xlsx\")\n"
   ]
  }
 ],
 "metadata": {
  "interpreter": {
   "hash": "9fdb9160099e666fbe1246fdc3611df6e34403c4a50d97f5ca90d3cacc6ef812"
  },
  "kernelspec": {
   "display_name": "Python 3.9.6 64-bit",
   "language": "python",
   "name": "python3"
  },
  "language_info": {
   "codemirror_mode": {
    "name": "ipython",
    "version": 3
   },
   "file_extension": ".py",
   "mimetype": "text/x-python",
   "name": "python",
   "nbconvert_exporter": "python",
   "pygments_lexer": "ipython3",
   "version": "3.9.6"
  },
  "orig_nbformat": 4
 },
 "nbformat": 4,
 "nbformat_minor": 2
}
