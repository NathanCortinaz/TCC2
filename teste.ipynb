{
 "cells": [
  {
   "cell_type": "markdown",
   "metadata": {},
   "source": [
    "### Rodar vídeo local"
   ]
  },
  {
   "cell_type": "code",
   "execution_count": null,
   "metadata": {},
   "outputs": [],
   "source": [
    "# importing libraries\n",
    "import cv2\n",
    "import numpy as np\n",
    "\n",
    "# Create a VideoCapture object and read from input file\n",
    "cap = cv2.VideoCapture('video.mp4')\n",
    "\n",
    "# Check if camera opened successfully\n",
    "if (cap.isOpened() == False):\n",
    "    print(\"Error opening video  file\")\n",
    "\n",
    "# Read until video is completed\n",
    "while(cap.isOpened()):\n",
    "\n",
    "    # Capture frame-by-frame\n",
    "    ret, frame = cap.read()\n",
    "    frame = cv2.resize(frame, (1280, 720))\n",
    "\n",
    "    # Display the resulting frame\n",
    "    cv2.imshow('Frame', frame)\n",
    "\n",
    "    # Press Q on keyboard to  exit\n",
    "    if cv2.waitKey(25) & 0xFF == ord('q'):\n",
    "        break\n",
    "\n",
    "# When everything done, release\n",
    "# the video capture object\n",
    "cap.release()\n",
    "\n",
    "# Closes all the frames\n",
    "cv2.destroyAllWindows()\n"
   ]
  },
  {
   "cell_type": "markdown",
   "metadata": {},
   "source": [
    "### Rodar vídeo no youtube"
   ]
  },
  {
   "cell_type": "code",
   "execution_count": null,
   "metadata": {},
   "outputs": [],
   "source": [
    "import webbrowser as web\n",
    "\n",
    "url = 'https://www.youtube.com/watch?v=SfLV8hD7zX4'\n",
    "\n",
    "web.open_new(url)\n"
   ]
  },
  {
   "cell_type": "markdown",
   "metadata": {},
   "source": [
    "Checar links\n",
    "\n",
    "https://docs.python.org/3/library/webbrowser.html\n",
    "\n",
    "https://pypi.org/project/youtube-video-play-pause-bot/\n",
    "\n",
    "https://stackoverflow.com/questions/63599903/how-can-i-play-a-youtube-video-selenium"
   ]
  },
  {
   "cell_type": "markdown",
   "metadata": {},
   "source": [
    "### Audio and Video"
   ]
  },
  {
   "cell_type": "code",
   "execution_count": null,
   "metadata": {},
   "outputs": [],
   "source": [
    "import cv2\n",
    "import numpy as np\n",
    "import os\n",
    "from ffpyplayer.player import MediaPlayer\n",
    "from time import sleep\n",
    "video_path = \"video.mp4\"\n",
    "\n",
    "\n",
    "def PlayVideo(video_path):\n",
    "    video = cv2.VideoCapture(video_path)\n",
    "    player = MediaPlayer(video_path)\n",
    "\n",
    "    if (video.isOpened() == False):\n",
    "        print(\"Error opening video  file\")\n",
    "        return\n",
    "\n",
    "    # Read until video is completed\n",
    "    while(video.isOpened()):\n",
    "        hasContent, frame = video.read()\n",
    "        audio_frame, val = player.get_frame()\n",
    "\n",
    "        if not hasContent:\n",
    "            print(\"End of video\")\n",
    "            break\n",
    "\n",
    "        # Pause video\n",
    "        if cv2.waitKey(28) & 0xFF == 32:\n",
    "            while(cv2.waitKey(28) & 0xFF != 32):\n",
    "                if cv2.waitKey(28) & 0xFF == ord(\"q\"):\n",
    "                    return\n",
    "                sleep(0.001)\n",
    "\n",
    "        # Quit video\n",
    "        if cv2.waitKey(28) & 0xFF == ord(\"q\"):\n",
    "            break\n",
    "\n",
    "        # Display the video image\n",
    "        frame = cv2.resize(frame, (1280, 720))\n",
    "        cv2.imshow(\"Video\", frame)\n",
    "\n",
    "        # Play the video audio\n",
    "        if val != 'eof' and audio_frame is not None:\n",
    "            img, t = audio_frame\n",
    "    video.release()\n",
    "    cv2.destroyAllWindows()\n",
    "\n",
    "\n",
    "PlayVideo(video_path)\n"
   ]
  },
  {
   "cell_type": "markdown",
   "metadata": {},
   "source": [
    "### Criar lista de reações por intervalo de segundo"
   ]
  },
  {
   "cell_type": "code",
   "execution_count": 6,
   "metadata": {},
   "outputs": [
    {
     "name": "stdout",
     "output_type": "stream",
     "text": [
      "[('neutral', 0), ('neutral', 1), ('neutral', 2), ('neutral', 3), ('happy', 4), ('happy', 5), ('neutral', 6), ('neutral', 7), ('neutral', 8), ('neutral', 9), ('neutral', 10), ('sad', 11), ('neutral', 12), ('surprise', 13), ('surprise', 14), ('surprise', 15), ('fear', 16), ('sad', 17), ('sad', 18), ('happy', 19)]\n"
     ]
    }
   ],
   "source": [
    "reactions = [\n",
    "    ('neutral', 0),\n",
    "    ('happy', 3.667533200001344),\n",
    "    ('neutral', 5.9574342999840155),\n",
    "    ('sad', 10.518743799999356),\n",
    "    ('neutral', 11.684130500012543),\n",
    "    ('surprise', 12.83386780001456),\n",
    "    ('fear', 15.099824299977627),\n",
    "    ('sad', 16.253530799993314),\n",
    "    ('happy', 18.42876579996664)]\n",
    "\n",
    "reactions_step = []\n",
    "current_reaction = 'neutral'\n",
    "step = 0\n",
    "\n",
    "for reaction in reactions:\n",
    "    while step < reaction[1]:\n",
    "        reactions_step.append((current_reaction, step))\n",
    "        step += 1\n",
    "    current_reaction = reaction[0]\n",
    "\n",
    "reactions_step.append((reaction[0], step))\n",
    "\n",
    "print(reactions_step)"
   ]
  },
  {
   "cell_type": "markdown",
   "metadata": {},
   "source": [
    "### Criar lista de frequência de reações"
   ]
  },
  {
   "cell_type": "code",
   "execution_count": 28,
   "metadata": {},
   "outputs": [
    {
     "name": "stdout",
     "output_type": "stream",
     "text": [
      "[('neutral', 16), ('happy', 10), ('sad', 3), ('angry', 2), ('surprise', 2)]\n"
     ]
    }
   ],
   "source": [
    "import collections\n",
    "\n",
    "reactions = [\n",
    "    ('neutral', 0),\n",
    "    ('neutral', 1),\n",
    "    ('sad', 2),\n",
    "    ('neutral', 3),\n",
    "    ('neutral', 4),\n",
    "    ('neutral', 5),\n",
    "    ('happy', 6),\n",
    "    ('happy', 7),\n",
    "    ('surprise', 8),\n",
    "    ('surprise', 9),\n",
    "    ('neutral', 10),\n",
    "    ('neutral', 11),\n",
    "    ('neutral', 12),\n",
    "    ('neutral', 13),\n",
    "    ('neutral', 14),\n",
    "    ('neutral', 15),\n",
    "    ('angry', 16),\n",
    "    ('angry', 17),\n",
    "    ('neutral', 18),\n",
    "    ('neutral', 19),\n",
    "    ('neutral', 20),\n",
    "    ('neutral', 21),\n",
    "    ('neutral', 22),\n",
    "    ('sad', 23),\n",
    "    ('sad', 24),\n",
    "    ('happy', 25),\n",
    "    ('happy', 26),\n",
    "    ('happy', 27),\n",
    "    ('happy', 28),\n",
    "    ('happy', 29),\n",
    "    ('happy', 30),\n",
    "    ('happy', 31),\n",
    "    ('happy', 32)]\n",
    "\n",
    "reactions_list = [reaction[0] for reaction in reactions]\n",
    "frequency_list = list(collections.Counter(reactions_list).items())\n",
    "sorted_frequency_list = sorted(frequency_list, key=lambda x: (-x[1], x[0]))\n",
    "\n",
    "print(sorted_frequency_list)\n"
   ]
  },
  {
   "cell_type": "markdown",
   "metadata": {},
   "source": [
    "### Cria gráfico com emoções por segundo"
   ]
  },
  {
   "cell_type": "code",
   "execution_count": 48,
   "metadata": {},
   "outputs": [
    {
     "data": {
      "image/png": "[encoded data removed]",
      "text/plain": [
       "<Figure size 640x480 with 1 Axes>"
      ]
     },
     "metadata": {},
     "output_type": "display_data"
    }
   ],
   "source": [
    "import pandas as pd\n",
    "import matplotlib.pyplot as plt\n",
    "import matplotlib.pyplot as pltline\n",
    "from openpyxl import load_workbook\n",
    "import openpyxl\n",
    "import os\n",
    "import numpy\n",
    "\n",
    "path = 'C:/Users/natha/OneDrive - Associacao Antonio Vieira/# UNISINOS/TCC2/Code/src/Results'\n",
    "\n",
    "reactions_step = [\n",
    "    ('neutral', 0),\n",
    "    ('neutral', 1),\n",
    "    ('neutral', 2),\n",
    "    ('neutral', 3),\n",
    "    ('happy', 4),\n",
    "    ('happy', 5),\n",
    "    ('neutral', 6),\n",
    "    ('fear', 7),\n",
    "    ('fear', 8),\n",
    "    ('angry', 9),\n",
    "    ('angry', 10),\n",
    "    ('angry', 11),\n",
    "    ('neutral', 12),\n",
    "    ('neutral', 13),\n",
    "    ('neutral', 14),\n",
    "    ('neutral', 15),\n",
    "    ('happy', 16),\n",
    "    ('neutral', 17),\n",
    "    ('neutral', 18),\n",
    "    ('neutral', 19),\n",
    "    ('neutral', 20)]\n",
    "\n",
    "\n",
    "df1 = pd.DataFrame(reactions_step)\n",
    "\n",
    "x1 = df1[1]\n",
    "y1 = df1[0]\n",
    "\n",
    "fig1 = pltline.figure()\n",
    "ax = fig1.gca()\n",
    "pltline.plot(x1, y1, linewidth=2, markersize=1)\n",
    "pltline.title(label = \"\", fontsize=25, fontweight='bold')\n",
    "pltline.ylabel('Reação')\n",
    "pltline.xlabel('Tempo [s]')\n",
    "ax.set_xticks(numpy.arange(0, reactions_step[-1][1], 2))\n",
    "pltline.grid(linestyle=':')\n",
    "pltline.savefig(\"GraficoLinha.png\")\n",
    "pltline.show()"
   ]
  },
  {
   "cell_type": "markdown",
   "metadata": {},
   "source": [
    "### Cria gráfico com ranking de emoções"
   ]
  },
  {
   "cell_type": "code",
   "execution_count": 52,
   "metadata": {},
   "outputs": [
    {
     "data": {
      "image/png": "[encoded data removed]",
      "text/plain": [
       "<Figure size 640x480 with 1 Axes>"
      ]
     },
     "metadata": {},
     "output_type": "display_data"
    },
    {
     "data": {
      "text/plain": [
       "<bound method Workbook.close of <openpyxl.workbook.workbook.Workbook object at 0x000001CEA8A5D120>>"
      ]
     },
     "execution_count": 52,
     "metadata": {},
     "output_type": "execute_result"
    }
   ],
   "source": [
    "import pandas as pd\n",
    "import matplotlib.pyplot as plt\n",
    "from openpyxl import load_workbook\n",
    "import openpyxl\n",
    "import os\n",
    "import numpy\n",
    "\n",
    "path = 'C:/Users/natha/OneDrive - Associacao Antonio Vieira/# UNISINOS/TCC2/Code/src/Results'\n",
    "\n",
    "sorted_frequency_list = [('neutral', 13), ('angry', 3), ('happy', 3), ('fear', 2)]\n",
    "df2 = pd.DataFrame(sorted_frequency_list)\n",
    "\n",
    "x2 = df2[0]\n",
    "y2 = df2[1]\n",
    "\n",
    "plt.bar(x2, y2)\n",
    "plt.title(label=\"\", fontsize=25, fontweight='bold')\n",
    "plt.xlabel('Reação')\n",
    "plt.ylabel('Tempo [s]')\n",
    "for i in range(len(x2)):\n",
    "    plt.text(i, y2[i], y2[i], ha='center')\n",
    "plt.savefig(\"GraficoBarras.png\")\n",
    "plt.show()\n",
    "\n",
    "wb = openpyxl.Workbook()\n",
    "sheet = wb.active\n",
    "sheet.title = 'Ranking de reações'\n",
    "img = openpyxl.drawing.image.Image(\"GraficoBarras.png\")\n",
    "img.anchor = 'A1'\n",
    "sheet.add_image(img)\n",
    "wb.save(\"Teste.xlsx\")\n",
    "wb.close"
   ]
  },
  {
   "cell_type": "markdown",
   "metadata": {},
   "source": [
    "### Salva dados em uma planilha em branco"
   ]
  },
  {
   "cell_type": "code",
   "execution_count": 41,
   "metadata": {},
   "outputs": [],
   "source": [
    "import openpyxl\n",
    "from openpyxl.chart import BarChart, LineChart, Reference\n",
    "import pandas as pd\n",
    "\n",
    "################################ LISTAS #################################\n",
    "sorted_frequency_list = [('neutral', 13), ('angry', 3), ('happy', 3), ('fear', 2)]\n",
    "reactions_step = [\n",
    "    ('neutral', 0),\n",
    "    ('neutral', 1),\n",
    "    ('neutral', 2),\n",
    "    ('neutral', 3),\n",
    "    ('happy', 4),\n",
    "    ('happy', 5),\n",
    "    ('neutral', 6),\n",
    "    ('fear', 7),\n",
    "    ('fear', 8),\n",
    "    ('angry', 9),\n",
    "    ('angry', 10),\n",
    "    ('angry', 11),\n",
    "    ('neutral', 12),\n",
    "    ('neutral', 13),\n",
    "    ('neutral', 14),\n",
    "    ('neutral', 15),\n",
    "    ('happy', 16),\n",
    "    ('neutral', 17),\n",
    "    ('neutral', 18),\n",
    "    ('neutral', 19),\n",
    "    ('neutral', 20)]\n",
    "\n",
    "# reactions_step = [(0, 'neutral'), (1, 'happy'), (2, 'fear'), (3, 'neutral')]\n",
    "\n",
    "################################ EXCEL #################################\n",
    "wb = openpyxl.Workbook()\n",
    "\n",
    "################################ GRAPH1 #################################\n",
    "sheet = wb.active\n",
    "sheet.title = 'Ranking de reações'\n",
    "sheet.cell(1, 1).value = \"REAÇÃO\"\n",
    "sheet.cell(1, 2).value = \"TEMPO [s]\"\n",
    "\n",
    "for item in sorted_frequency_list:\n",
    "    sheet.append(item)\n",
    "\n",
    "items = Reference(sheet, min_col=1, min_row=2,\n",
    "                   max_col=1, max_row=len(sorted_frequency_list) + 1)\n",
    "values = Reference(sheet, min_col=2, min_row=2,\n",
    "                   max_col=2, max_row=len(sorted_frequency_list) + 1)\n",
    "\n",
    "chart = BarChart()\n",
    "chart.x_axis.title = \"Reações\"\n",
    "chart.y_axis.title = \"Tempo [s]\"\n",
    "chart.add_data(values)\n",
    "chart.set_categories(items)\n",
    "chart.legend = None\n",
    "\n",
    "sheet.add_chart(chart, \"D1\")\n",
    "\n",
    "################################ GRAPH2 #################################\n",
    "\n",
    "sheet = wb.create_sheet()\n",
    "sheet.title = \"Emoções por segundo\"\n",
    "sheet.cell(1, 1).value = \"REAÇÃO\"\n",
    "sheet.cell(1, 2).value = \"TEMPO [s]\"\n",
    "\n",
    "for item in reactions_step:\n",
    "    sheet.append(item)\n",
    "\n",
    "items = Reference(sheet, min_col=1, min_row=2,\n",
    "                  max_col=1, max_row=len(reactions_step) + 1)\n",
    "values = Reference(sheet, min_col=2, min_row=2,\n",
    "                   max_col=2, max_row=len(reactions_step) + 1)\n",
    "\n",
    "chart = LineChart()\n",
    "chart.x_axis.title = \"Tempo [s]\"\n",
    "chart.y_axis.title = \"Reações\"\n",
    "chart.add_data(values)\n",
    "chart.set_categories(items)\n",
    "chart.legend = None\n",
    "\n",
    "sheet.add_chart(chart, \"D1\")\n",
    "\n",
    "wb.save(\"Teste.xlsx\")"
   ]
  },
  {
   "cell_type": "markdown",
   "metadata": {},
   "source": [
    "### Gera excel com gráficos"
   ]
  },
  {
   "cell_type": "code",
   "execution_count": 2,
   "metadata": {},
   "outputs": [
    {
     "data": {
      "text/plain": [
       "<Figure size 500x500 with 0 Axes>"
      ]
     },
     "metadata": {},
     "output_type": "display_data"
    },
    {
     "data": {
      "text/plain": [
       "<Figure size 640x480 with 0 Axes>"
      ]
     },
     "metadata": {},
     "output_type": "display_data"
    }
   ],
   "source": [
    "import pandas as pd\n",
    "import matplotlib.pyplot as plt\n",
    "from openpyxl import load_workbook\n",
    "import openpyxl\n",
    "import os\n",
    "import numpy\n",
    "\n",
    "path = 'C:/Users/natha/OneDrive - Associacao Antonio Vieira/# UNISINOS/TCC2/Code/src/Results'\n",
    "\n",
    "################################ LISTA1 #################################\n",
    "reactions_step_ = [\n",
    "    ('neutro', 0),\n",
    "    ('neutro', 1),\n",
    "    ('neutro', 2),\n",
    "    ('surpresa', 3),\n",
    "    ('feliz', 4),\n",
    "    ('neutro', 5),\n",
    "    ('neutro', 6),\n",
    "    ('feliz', 7),\n",
    "    ('feliz', 8),\n",
    "    ('feliz', 9),\n",
    "    ('feliz', 10),\n",
    "    ('neutro', 11),\n",
    "    ('neutro', 12),\n",
    "    ('feliz', 13),\n",
    "    ('feliz', 14),\n",
    "    ('neutro', 15),\n",
    "    ('feliz', 16),\n",
    "    ('surpresa', 17),\n",
    "    ('surpresa', 18),\n",
    "    ('medo', 19),\n",
    "    ('neutro', 20),\n",
    "    ('neutro', 21),\n",
    "    ('neutro', 22),\n",
    "    ('neutro', 23),\n",
    "    ('neutro', 24),\n",
    "    ('neutro', 25),\n",
    "    ('neutro', 26),\n",
    "    ('neutro', 27),\n",
    "    ('neutro', 28),\n",
    "    ('neutro', 29),\n",
    "    ('neutro', 30),\n",
    "    ('feliz', 31),\n",
    "    ('feliz', 32),\n",
    "    ('feliz', 33),\n",
    "    ('feliz', 34),\n",
    "    ('feliz', 35),\n",
    "    ('raiva', 36),\n",
    "    ('raiva', 37),\n",
    "    ('medo', 38),\n",
    "    ('medo', 39),\n",
    "    ('medo', 40),\n",
    "    ('medo', 41),\n",
    "    ('medo', 42),\n",
    "    ('medo', 43),\n",
    "    ('medo', 44),\n",
    "    ('neutro', 45),\n",
    "    ('neutro', 46),\n",
    "    ('feliz', 47),\n",
    "    ('feliz', 48),\n",
    "    ('feliz', 49),\n",
    "    ('feliz', 50),\n",
    "    ('neutro', 51),\n",
    "    ('neutro', 52),\n",
    "    ('neutro', 53),\n",
    "    ('surpresa', 54),\n",
    "    ('neutro', 55),\n",
    "    ('neutro', 56),\n",
    "    ('neutro', 57),\n",
    "    ('feliz', 58),\n",
    "    ('feliz', 59),\n",
    "    ('feliz', 60),\n",
    "    ('feliz', 61),\n",
    "    ('neutro', 62),\n",
    "    ('neutro', 63),\n",
    "    ('neutro', 64)]\n",
    "\n",
    "reactions_step = [\n",
    "    ('neutro', 0),\n",
    "    ('neutro', 1),\n",
    "    ('neutro', 2),\n",
    "    ('neutro', 3),\n",
    "    ('feliz', 4),\n",
    "    ('feliz', 5),\n",
    "    ('neutro', 6),\n",
    "    ('neutro', 7),\n",
    "    ('neutro', 8),\n",
    "    ('neutro', 9),\n",
    "    ('neutro', 10),\n",
    "    ('neutro', 11),\n",
    "    ('feliz', 12)]\n",
    "\n",
    "df1 = pd.DataFrame(reactions_step)\n",
    "x1 = df1[1]\n",
    "y1 = df1[0]\n",
    "\n",
    "################################ LISTA2 #################################\n",
    "sorted_frequency_list_ = [('neutro', 30), ('feliz', 21), ('medo', 8), ('surpresa', 4), ('raiva', 2)]\n",
    "sorted_frequency_list = [('neutro', 10), ('feliz', 3)]\n",
    "\n",
    "df2 = pd.DataFrame(sorted_frequency_list)\n",
    "x2 = df2[0]\n",
    "y2 = df2[1]\n",
    "\n",
    "################################ GRAPH1 #################################\n",
    "width = 5 if len(reactions_step)/6 < 5 else len(reactions_step)/6\n",
    "fig = plt.figure(figsize=(width, 5))\n",
    "\n",
    "ax = fig.gca()\n",
    "plt.plot(x1, y1, linewidth=2, marker=\".\", markersize=10)\n",
    "plt.ylabel('Reação', fontweight='bold')\n",
    "plt.xlabel('Tempo [s]', fontweight='bold')\n",
    "ax.set_xticks(numpy.arange(0, reactions_step[-1][1]+2, 2))\n",
    "plt.grid(linestyle=':')\n",
    "plt.tight_layout()\n",
    "plt.savefig(\"GraficoLinhas.png\")\n",
    "plt.clf()\n",
    "# plt.show()\n",
    "\n",
    "################################ GRAPH2 #################################\n",
    "plt.figure()\n",
    "plt.bar(x2, y2)\n",
    "plt.xlabel('Reação', fontweight='bold')\n",
    "plt.ylabel('Tempo [s]', fontweight='bold')\n",
    "for i in range(len(x2)):\n",
    "    plt.text(i, y2[i], y2[i], ha='center')\n",
    "plt.tight_layout()\n",
    "plt.savefig(\"GraficoBarras.png\")\n",
    "plt.clf()\n",
    "# plt.show()\n",
    "\n",
    "################################ EXCEL #################################\n",
    "wb = openpyxl.Workbook()\n",
    "sheet = wb.active\n",
    "sheet.title = \"Emoções por segundo\"\n",
    "sheet.cell(1, 1).value = \"REAÇÃO\"\n",
    "sheet.cell(1, 2).value = \"TEMPO [s]\"\n",
    "for item in reactions_step:\n",
    "    sheet.append(item)\n",
    "grafico_linhas = openpyxl.drawing.image.Image(\"GraficoLinhas.png\")\n",
    "grafico_linhas.anchor = 'D1'\n",
    "sheet.add_image(grafico_linhas)\n",
    "\n",
    "sheet = wb.create_sheet()\n",
    "sheet.title = 'Ranking de reações'\n",
    "sheet.cell(1, 1).value = \"REAÇÃO\"\n",
    "sheet.cell(1, 2).value = \"TEMPO [s]\"\n",
    "for item in sorted_frequency_list:\n",
    "    sheet.append(item)\n",
    "grafico_barras = openpyxl.drawing.image.Image(\"GraficoBarras.png\")\n",
    "grafico_barras.anchor = 'D1'\n",
    "sheet.add_image(grafico_barras)\n",
    "\n",
    "wb.save(f\"{path}/Results.xlsx\")\n",
    "wb.close\n",
    "\n",
    "os.remove(\"GraficoLinhas.png\")\n",
    "os.remove(\"GraficoBarras.png\")\n"
   ]
  },
  {
   "cell_type": "markdown",
   "metadata": {},
   "source": [
    "### Traduz reações"
   ]
  },
  {
   "cell_type": "code",
   "execution_count": 5,
   "metadata": {},
   "outputs": [
    {
     "name": "stdout",
     "output_type": "stream",
     "text": [
      "[('neutral', 0), ('happy', 3.322744000000057), ('neutral', 5.560093500000221), ('fear', 6.676402500000222), ('angry', 8.942872200000238), ('neutral', 11.220656400000735), ('happy', 15.75596780000069), ('neutral', 16.86338640000031), ('neutral', 19.146108200000526)]\n",
      "[('neutro', 0), ('feliz', 3.322744000000057), ('neutro', 5.560093500000221), ('medo', 6.676402500000222), ('raiva', 8.942872200000238), ('neutro', 11.220656400000735), ('feliz', 15.75596780000069), ('neutro', 16.86338640000031), ('neutro', 19.146108200000526)]\n"
     ]
    }
   ],
   "source": [
    "reactions = [\n",
    "    ('neutral', 0),\n",
    "    ('happy', 3.322744000000057),\n",
    "    ('neutral', 5.560093500000221),\n",
    "    ('fear', 6.676402500000222),\n",
    "    ('angry', 8.942872200000238),\n",
    "    ('neutral', 11.220656400000735),\n",
    "    ('happy', 15.75596780000069),\n",
    "    ('neutral', 16.86338640000031),\n",
    "    ('neutral', 19.146108200000526)]\n",
    "\n",
    "print(reactions)\n",
    "for index, reaction in enumerate(reactions):\n",
    "    item = list(reaction)\n",
    "    match item[0]:\n",
    "        case 'neutral':\n",
    "            item[0] = 'neutro'\n",
    "        case 'happy':\n",
    "            item[0] = 'feliz'\n",
    "        case 'fear':\n",
    "            item[0] = 'medo'\n",
    "        case 'angry':\n",
    "            item[0] = 'raiva'\n",
    "        case 'sad':\n",
    "            item[0] = 'triste'\n",
    "        case 'disgust':\n",
    "            item[0] = 'desgosto'\n",
    "        case 'surprise':\n",
    "            item[0] = 'surpresa'\n",
    "    reactions[index] = tuple(item)\n",
    "print(reactions)"
   ]
  }
 ],
 "metadata": {
  "kernelspec": {
   "display_name": "Python 3.10.7 64-bit",
   "language": "python",
   "name": "python3"
  },
  "language_info": {
   "codemirror_mode": {
    "name": "ipython",
    "version": 3
   },
   "file_extension": ".py",
   "mimetype": "text/x-python",
   "name": "python",
   "nbconvert_exporter": "python",
   "pygments_lexer": "ipython3",
   "version": "3.10.7"
  },
  "orig_nbformat": 4,
  "vscode": {
   "interpreter": {
    "hash": "9f0d103aebe82dfbb47ec724a2ca4fd3dcb0c9038207abb072b7913218171667"
   }
  }
 },
 "nbformat": 4,
 "nbformat_minor": 2
}
